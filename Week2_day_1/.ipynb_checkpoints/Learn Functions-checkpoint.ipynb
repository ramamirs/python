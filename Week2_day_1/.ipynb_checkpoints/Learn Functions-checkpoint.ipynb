{
 "cells": [
  {
   "cell_type": "code",
   "execution_count": 3,
   "metadata": {},
   "outputs": [
    {
     "name": "stdout",
     "output_type": "stream",
     "text": [
      "Hello, i am from method\n",
      "\n",
      "0\n",
      "1\n",
      "2\n",
      "3\n",
      "4\n",
      "5\n",
      "6\n",
      "7\n",
      "8\n",
      "9\n"
     ]
    }
   ],
   "source": [
    "def method_name():\n",
    "    print(\"Hello, i am from method\")  # this is method definition:\n",
    "    print()\n",
    "    for i in range(10):\n",
    "        print(i)\n",
    "method_name()\n"
   ]
  },
  {
   "cell_type": "code",
   "execution_count": 4,
   "metadata": {},
   "outputs": [
    {
     "name": "stdout",
     "output_type": "stream",
     "text": [
      "300\n"
     ]
    }
   ],
   "source": [
    "def add_two_numbers():\n",
    "    a = 100\n",
    "    b = 200\n",
    "    c = (a+b)\n",
    "    print(c)\n",
    "add_two_numbers()   "
   ]
  },
  {
   "cell_type": "code",
   "execution_count": 7,
   "metadata": {},
   "outputs": [
    {
     "data": {
      "text/plain": [
       "12345"
      ]
     },
     "execution_count": 7,
     "metadata": {},
     "output_type": "execute_result"
    }
   ],
   "source": [
    "def get_phone_num():\n",
    "    dt = {'person1':12345}\n",
    "    return dt.get('person1')\n",
    "get_phone_num()"
   ]
  },
  {
   "cell_type": "code",
   "execution_count": null,
   "metadata": {},
   "outputs": [],
   "source": [
    "def add_three_numbers():\n",
    "    a = 100\n",
    "    b = 200\n",
    "    c = (a+b)\n",
    "    print(c)\n",
    "add_two_numbers() "
   ]
  },
  {
   "cell_type": "code",
   "execution_count": 11,
   "metadata": {},
   "outputs": [
    {
     "name": "stdout",
     "output_type": "stream",
     "text": [
      "per1\n"
     ]
    }
   ],
   "source": [
    "def fetch_phone_number(name):\n",
    "    print(name)\n",
    "    dt = {'perl' :1234,'per2' : 22552,'pers3' : 55885512}\n",
    "    return dt.get(name)\n",
    "fetch_phone_number('per1')"
   ]
  },
  {
   "cell_type": "code",
   "execution_count": 12,
   "metadata": {},
   "outputs": [
    {
     "name": "stdout",
     "output_type": "stream",
     "text": [
      "300\n"
     ]
    }
   ],
   "source": [
    "def add_two_numbers(a,b):\n",
    "    c = a+b\n",
    "    print(c)\n",
    "add_two_numbers(100,200)"
   ]
  },
  {
   "cell_type": "code",
   "execution_count": 15,
   "metadata": {},
   "outputs": [
    {
     "data": {
      "text/plain": [
       "10"
      ]
     },
     "execution_count": 15,
     "metadata": {},
     "output_type": "execute_result"
    }
   ],
   "source": [
    "def add_three_numbers(a,b,c):\n",
    "    return a+b+c\n",
    "add_three_numbers(2,3,5)\n"
   ]
  },
  {
   "cell_type": "code",
   "execution_count": 20,
   "metadata": {},
   "outputs": [
    {
     "name": "stdout",
     "output_type": "stream",
     "text": [
      "2\n",
      "5\n",
      "5\n"
     ]
    },
    {
     "data": {
      "text/plain": [
       "12"
      ]
     },
     "execution_count": 20,
     "metadata": {},
     "output_type": "execute_result"
    }
   ],
   "source": [
    "# Positional argument\n",
    "def add_three_numbers(a,b,c):\n",
    "    print(a)\n",
    "    print(b)\n",
    "    print(c)\n",
    "    return a+b+c\n",
    "add_three_numbers(2,5,5) # order matters"
   ]
  },
  {
   "cell_type": "code",
   "execution_count": 27,
   "metadata": {},
   "outputs": [],
   "source": [
    "# Key word argument\n",
    "\n",
    "# def add_two_num(a,b,c):\n",
    "#     print(a,b)\n",
    "#     add_two_num(b = 20,a = 30)  # Key word\n",
    "# return add_two_num()\n",
    "\n"
   ]
  },
  {
   "cell_type": "code",
   "execution_count": 28,
   "metadata": {
    "scrolled": true
   },
   "outputs": [
    {
     "ename": "TypeError",
     "evalue": "add_two_num() got an unexpected keyword argument 'c'",
     "output_type": "error",
     "traceback": [
      "\u001b[1;31m---------------------------------------------------------------------------\u001b[0m",
      "\u001b[1;31mTypeError\u001b[0m                                 Traceback (most recent call last)",
      "\u001b[1;32m<ipython-input-28-b93c1c84ef51>\u001b[0m in \u001b[0;36m<module>\u001b[1;34m\u001b[0m\n\u001b[0;32m      1\u001b[0m \u001b[1;31m# positional & keyword\u001b[0m\u001b[1;33m\u001b[0m\u001b[1;33m\u001b[0m\u001b[1;33m\u001b[0m\u001b[0m\n\u001b[1;32m----> 2\u001b[1;33m \u001b[0madd_two_num\u001b[0m\u001b[1;33m(\u001b[0m\u001b[0mb\u001b[0m\u001b[1;33m=\u001b[0m \u001b[1;36m10\u001b[0m\u001b[1;33m,\u001b[0m\u001b[0ma\u001b[0m \u001b[1;33m=\u001b[0m \u001b[1;36m20\u001b[0m\u001b[1;33m,\u001b[0m\u001b[0mc\u001b[0m \u001b[1;33m=\u001b[0m \u001b[1;36m30\u001b[0m\u001b[1;33m)\u001b[0m\u001b[1;33m\u001b[0m\u001b[1;33m\u001b[0m\u001b[0m\n\u001b[0m",
      "\u001b[1;31mTypeError\u001b[0m: add_two_num() got an unexpected keyword argument 'c'"
     ]
    }
   ],
   "source": [
    "# positional & keyword\n",
    "# add_two_num(b= 10,a = 20,c = 30)\n"
   ]
  },
  {
   "cell_type": "code",
   "execution_count": 38,
   "metadata": {
    "scrolled": true
   },
   "outputs": [
    {
     "name": "stdout",
     "output_type": "stream",
     "text": [
      "20\n",
      "30\n",
      "100\n"
     ]
    },
    {
     "data": {
      "text/plain": [
       "150"
      ]
     },
     "execution_count": 38,
     "metadata": {},
     "output_type": "execute_result"
    }
   ],
   "source": [
    "# Default value \n",
    "\n",
    "def add_three_numberss(a ,b = 3,c = 100):\n",
    "    print(a)\n",
    "    print(b)\n",
    "    print(c)\n",
    "    return a+b+c\n",
    "add_three_numberss(20,30)  # one argument not givem"
   ]
  },
  {
   "cell_type": "code",
   "execution_count": 3,
   "metadata": {},
   "outputs": [
    {
     "name": "stdout",
     "output_type": "stream",
     "text": [
      "(1, 2, 3, 4, 5, 6, 7, 8, 9)\n"
     ]
    }
   ],
   "source": [
    "def add_num(*args): # when doing * it returns single dimensions\n",
    "    print(args)\n",
    "add_num(1,2,3,4,5,6,7,8,9)  # collection of argument, results tuple"
   ]
  },
  {
   "cell_type": "code",
   "execution_count": 42,
   "metadata": {
    "scrolled": true
   },
   "outputs": [
    {
     "name": "stdout",
     "output_type": "stream",
     "text": [
      "(1, 2, 3, 4)\n",
      "10\n"
     ]
    }
   ],
   "source": [
    "def add_num(*args): # when doing * it returns single dimentsions\n",
    "    print(args)\n",
    "    print (sum(args))\n",
    "add_num(1,2,3,4)   # single dimentsion returs"
   ]
  },
  {
   "cell_type": "code",
   "execution_count": 10,
   "metadata": {},
   "outputs": [
    {
     "name": "stdout",
     "output_type": "stream",
     "text": [
      "{'a': 1, 'b': 2, 'c': 3}\n"
     ]
    }
   ],
   "source": [
    "def add_num1(**kwargs):  # for multidimentsion use kw (keyword) expect dict as output\n",
    "    print(kwargs)\n",
    "add_num1(a=1,b=2,c=3)\n",
    "\n"
   ]
  },
  {
   "cell_type": "code",
   "execution_count": null,
   "metadata": {},
   "outputs": [],
   "source": [
    "def get_data(*args,**kwargs):\n",
    "    # combination of single and two dimentsion\n",
    "    get_data(1,2,3,4,5,a=1,b=3,c=4)\n",
    "get_data()"
   ]
  },
  {
   "cell_type": "code",
   "execution_count": 1,
   "metadata": {},
   "outputs": [
    {
     "data": {
      "text/plain": [
       "10"
      ]
     },
     "execution_count": 1,
     "metadata": {},
     "output_type": "execute_result"
    }
   ],
   "source": [
    "def add_threee_numbers(a,b,c):\n",
    "    return a+b+c\n",
    "add_threee_numbers(2,3,5)"
   ]
  },
  {
   "cell_type": "code",
   "execution_count": 2,
   "metadata": {},
   "outputs": [
    {
     "data": {
      "text/plain": [
       "10"
      ]
     },
     "execution_count": 2,
     "metadata": {},
     "output_type": "execute_result"
    }
   ],
   "source": [
    "def add_threee_numbers(a,b,c):\n",
    "    return a+b+c\n",
    "add_threee_numbers(2,3,5)"
   ]
  },
  {
   "cell_type": "code",
   "execution_count": 6,
   "metadata": {},
   "outputs": [
    {
     "name": "stdout",
     "output_type": "stream",
     "text": [
      "sum of 100 and 200 are 300\n"
     ]
    }
   ],
   "source": [
    "def get_data(a,b):\n",
    "    print(f'sum of {a} and {b} are {a+b}') #format\n",
    "get_data(100,200)\n",
    "    "
   ]
  },
  {
   "cell_type": "code",
   "execution_count": 11,
   "metadata": {},
   "outputs": [
    {
     "name": "stdout",
     "output_type": "stream",
     "text": [
      "sum of 10 and 30 are 40\n",
      "sum of 500 and 20 are 520\n"
     ]
    }
   ],
   "source": [
    "a = 1000  # Global variable\n",
    "b = 3000\n",
    "def get_data1():\n",
    "    a=10\n",
    "    b=30  # local variable\n",
    "    print(f'sum of {a} and {b} are {a+b}') #format\n",
    "    \n",
    "def get_data2():\n",
    "    a=500\n",
    "    b=20 # local variable Priority goes to local variable\n",
    "    print(f'sum of {a} and {b} are {a+b}') #format\n",
    "get_data1()\n",
    "get_data2()\n",
    "\n",
    "    "
   ]
  }
 ],
 "metadata": {
  "kernelspec": {
   "display_name": "Python 3",
   "language": "python",
   "name": "python3"
  },
  "language_info": {
   "codemirror_mode": {
    "name": "ipython",
    "version": 3
   },
   "file_extension": ".py",
   "mimetype": "text/x-python",
   "name": "python",
   "nbconvert_exporter": "python",
   "pygments_lexer": "ipython3",
   "version": "3.8.3"
  }
 },
 "nbformat": 4,
 "nbformat_minor": 4
}
