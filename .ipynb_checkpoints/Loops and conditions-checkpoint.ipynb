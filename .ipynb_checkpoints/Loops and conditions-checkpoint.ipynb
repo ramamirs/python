{
 "cells": [
  {
   "cell_type": "code",
   "execution_count": 21,
   "metadata": {},
   "outputs": [
    {
     "name": "stdout",
     "output_type": "stream",
     "text": [
      "c is bigger 230\n"
     ]
    }
   ],
   "source": [
    "#indentation:\n",
    "a = 100\n",
    "b = 200\n",
    "c = 230\n",
    "if (a > b and a > c):\n",
    "    print (\"A is bigger\" ,a)\n",
    "elif (b >c):\n",
    "    print (\"b is bigger\" ,b)\n",
    "else:\n",
    "     print (\"c is bigger\" ,c)"
   ]
  },
  {
   "cell_type": "code",
   "execution_count": 33,
   "metadata": {},
   "outputs": [
    {
     "name": "stdout",
     "output_type": "stream",
     "text": [
      "s\n",
      "r\n",
      "i\n",
      "r\n",
      "a\n",
      "m\n"
     ]
    }
   ],
   "source": [
    "# for loops: only 2 loops in python -- only \"for\" and \"while\"\n",
    "#***********************\n",
    "#for  ||for variable_name in collection:\n",
    "      #//body of for loop\n",
    "#for i in collection: #collection is datastructure which contains (list, tuple, set,dictionary,string(collection of characters))\n",
    "list = [100,200,300,400,500]\n",
    "#list1 = ['100','200','ram','ramamirtham','sriram']\n",
    "list2 = 'sriram'\n",
    "\n",
    "for i in list2:\n",
    "#for i in [100,200,300,400,500]:\n",
    "    print(i)"
   ]
  },
  {
   "cell_type": "code",
   "execution_count": 51,
   "metadata": {},
   "outputs": [
    {
     "name": "stdout",
     "output_type": "stream",
     "text": [
      "1\n",
      "3\n",
      "5\n",
      "7\n",
      "9\n",
      "11\n",
      "13\n",
      "15\n",
      "17\n",
      "19\n"
     ]
    }
   ],
   "source": [
    "#range(Index)\n",
    "#range(startIndex,endIndex)\n",
    "#range(startIndex,endIndex,step)\n",
    "\n",
    "for i in range(1,20,2):\n",
    "    print (i)\n"
   ]
  },
  {
   "cell_type": "code",
   "execution_count": 55,
   "metadata": {},
   "outputs": [
    {
     "name": "stdout",
     "output_type": "stream",
     "text": [
      "sriram\n",
      "aparna\n",
      "ramamirtham\n"
     ]
    }
   ],
   "source": [
    "list = ['sriram','aparna','ramamirtham']\n",
    "for i in list:\n",
    "    print (i)"
   ]
  },
  {
   "cell_type": "code",
   "execution_count": 67,
   "metadata": {},
   "outputs": [
    {
     "name": "stdout",
     "output_type": "stream",
     "text": [
      "67\n",
      "55\n"
     ]
    }
   ],
   "source": [
    "# print values between 50 to 70\n",
    "\n",
    "lst = [34,67,55,33,12,98]\n",
    "for i in  lst:\n",
    "    if i>50 and i<70:\n",
    "        print (i)\n"
   ]
  },
  {
   "cell_type": "code",
   "execution_count": 88,
   "metadata": {},
   "outputs": [
    {
     "name": "stdout",
     "output_type": "stream",
     "text": [
      "100\n",
      "10.1\n",
      "True\n"
     ]
    }
   ],
   "source": [
    "# print only string data from the list.\n",
    "list = ['abc',100,10.10,True,'Babu']\n",
    "# for i in list:\n",
    "#     if('str' in str(type(i))):     \n",
    "#         print(i)\n",
    "\n",
    "# print except string data from the list.\n",
    "for i in list:\n",
    "    if('str' not in str(type(i))):     \n",
    "        print(i)        \n",
    "\n",
    "\n"
   ]
  },
  {
   "cell_type": "code",
   "execution_count": 109,
   "metadata": {},
   "outputs": [
    {
     "name": "stdout",
     "output_type": "stream",
     "text": [
      "abc\n",
      "100\n",
      "10.1\n",
      "True\n",
      "Babu\n"
     ]
    },
    {
     "ename": "TypeError",
     "evalue": "can only concatenate str (not \"int\") to str",
     "output_type": "error",
     "traceback": [
      "\u001b[1;31m---------------------------------------------------------------------------\u001b[0m",
      "\u001b[1;31mTypeError\u001b[0m                                 Traceback (most recent call last)",
      "\u001b[1;32m<ipython-input-109-0f0ed3f58a0f>\u001b[0m in \u001b[0;36m<module>\u001b[1;34m\u001b[0m\n\u001b[0;32m      6\u001b[0m     \u001b[0mprint\u001b[0m \u001b[1;33m(\u001b[0m\u001b[0mi\u001b[0m\u001b[1;33m)\u001b[0m\u001b[1;33m\u001b[0m\u001b[1;33m\u001b[0m\u001b[0m\n\u001b[0;32m      7\u001b[0m         \u001b[1;31m#if('str' in str(type(i))):\u001b[0m\u001b[1;33m\u001b[0m\u001b[1;33m\u001b[0m\u001b[1;33m\u001b[0m\u001b[0m\n\u001b[1;32m----> 8\u001b[1;33m \u001b[0mi\u001b[0m\u001b[1;33m+=\u001b[0m\u001b[1;36m1\u001b[0m\u001b[1;33m\u001b[0m\u001b[1;33m\u001b[0m\u001b[0m\n\u001b[0m\u001b[0;32m      9\u001b[0m \u001b[1;33m\u001b[0m\u001b[0m\n\u001b[0;32m     10\u001b[0m \u001b[1;33m\u001b[0m\u001b[0m\n",
      "\u001b[1;31mTypeError\u001b[0m: can only concatenate str (not \"int\") to str"
     ]
    }
   ],
   "source": [
    "#write a program to replace only the string values as none\n",
    "\n",
    "list = ['abc',100,10.10,True,'Babu']\n",
    "\n",
    "for i in list:\n",
    "    print (i)\n",
    "        #if('str' in str(type(i))):\n",
    "   \n",
    "    \n",
    "    \n",
    "#     if str(type(i))\n",
    "    \n",
    "#     print(i)\n",
    "    \n",
    "    \n",
    "#     if('str' in str(type(i))):\n",
    "#         #i= 'none'\n",
    "#         print (i)\n",
    "    \n",
    "\n"
   ]
  }
 ],
 "metadata": {
  "kernelspec": {
   "display_name": "Python 3",
   "language": "python",
   "name": "python3"
  },
  "language_info": {
   "codemirror_mode": {
    "name": "ipython",
    "version": 3
   },
   "file_extension": ".py",
   "mimetype": "text/x-python",
   "name": "python",
   "nbconvert_exporter": "python",
   "pygments_lexer": "ipython3",
   "version": "3.8.3"
  }
 },
 "nbformat": 4,
 "nbformat_minor": 4
}
