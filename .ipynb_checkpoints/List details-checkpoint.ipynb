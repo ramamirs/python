{
 "cells": [
  {
   "cell_type": "code",
   "execution_count": 1,
   "metadata": {},
   "outputs": [
    {
     "name": "stdout",
     "output_type": "stream",
     "text": [
      "140732605023104\n",
      "<class 'int'>\n"
     ]
    }
   ],
   "source": [
    "a = 100\n",
    "print(id(a))\n",
    "print(type(a))"
   ]
  },
  {
   "cell_type": "code",
   "execution_count": 4,
   "metadata": {},
   "outputs": [
    {
     "data": {
      "text/plain": [
       "list"
      ]
     },
     "execution_count": 4,
     "metadata": {},
     "output_type": "execute_result"
    }
   ],
   "source": [
    "ls = [10,20,30,40,50]\n",
    "type(ls)\n",
    "# THis is a list stored in square brackets (List)"
   ]
  },
  {
   "cell_type": "code",
   "execution_count": 5,
   "metadata": {},
   "outputs": [
    {
     "data": {
      "text/plain": [
       "tuple"
      ]
     },
     "execution_count": 5,
     "metadata": {},
     "output_type": "execute_result"
    }
   ],
   "source": [
    "tp = (10,20,30,40,50)\n",
    "type(ls)\n",
    "# THis is a list stored in () brackets (Tuple)\n"
   ]
  },
  {
   "cell_type": "code",
   "execution_count": 8,
   "metadata": {},
   "outputs": [
    {
     "data": {
      "text/plain": [
       "set"
      ]
     },
     "execution_count": 8,
     "metadata": {},
     "output_type": "execute_result"
    }
   ],
   "source": [
    "set = {10,20,30,40,50}\n",
    "type(ls)\n",
    "# THis is a list stored in {} brackets\n",
    "#this is same for dictionary also"
   ]
  },
  {
   "cell_type": "code",
   "execution_count": 30,
   "metadata": {},
   "outputs": [
    {
     "name": "stdout",
     "output_type": "stream",
     "text": [
      "['sriram', 'ramamirtham', 'aparna', 'mithul', 'tapasya', 'sriram']\n",
      "<class 'list'>\n"
     ]
    }
   ],
   "source": [
    "#create list\n",
    "#Declare\n",
    "mentors = ['sriram','ramamirtham','aparna','mithul','tapasya','sriram']\n",
    "print (mentors)\n",
    "print(type(mentors))\n",
    "\n",
    "# for fetching the values \n",
    "#print (mentors[4])"
   ]
  },
  {
   "cell_type": "code",
   "execution_count": null,
   "metadata": {},
   "outputs": [],
   "source": []
  },
  {
   "cell_type": "code",
   "execution_count": 31,
   "metadata": {},
   "outputs": [
    {
     "name": "stdout",
     "output_type": "stream",
     "text": [
      "['sriram', 'ramamirtham', 'aparna', 'mithul', 'tapasya', 'gopi', 'sriram', 'raja', 'sam', 'nav']\n"
     ]
    }
   ],
   "source": [
    "# adding the items in the list\n",
    "\n",
    "#1) Append\n",
    "#2) extend\n",
    "#3) insert\n",
    "\n",
    "# adding single item in the list\n",
    "mentors.append('raja')  # this inserts in the end and list always maintains the order\n",
    "#print (mentors)\n",
    "# to add collection of list\n",
    "\n",
    "mentors.extend(['sam','nav'])\n",
    "#print (mentors)\n",
    "\n",
    "# inserts to add in between\n",
    "\n",
    "mentors.insert(5,'gopi')\n",
    "#print(mentors)\n",
    "#mentors.remove(\n",
    "print(mentors)\n",
    "\n",
    "\n"
   ]
  },
  {
   "cell_type": "code",
   "execution_count": 32,
   "metadata": {},
   "outputs": [
    {
     "name": "stdout",
     "output_type": "stream",
     "text": [
      "['sriram', 'ramamirtham', 'aparna', 'mithul', 'tapasya', 'gopi', 'sriram', 'raja', 'sam', 'nav']\n"
     ]
    }
   ],
   "source": [
    "print (mentors)"
   ]
  },
  {
   "cell_type": "code",
   "execution_count": 33,
   "metadata": {},
   "outputs": [
    {
     "data": {
      "text/plain": [
       "1"
      ]
     },
     "execution_count": 33,
     "metadata": {},
     "output_type": "execute_result"
    }
   ],
   "source": [
    "mentors.index('ramamirtham')"
   ]
  },
  {
   "cell_type": "code",
   "execution_count": 34,
   "metadata": {},
   "outputs": [
    {
     "data": {
      "text/plain": [
       "1"
      ]
     },
     "execution_count": 34,
     "metadata": {},
     "output_type": "execute_result"
    }
   ],
   "source": [
    "mentors.count('mithul')"
   ]
  },
  {
   "cell_type": "code",
   "execution_count": 36,
   "metadata": {},
   "outputs": [
    {
     "name": "stdout",
     "output_type": "stream",
     "text": [
      "['aparna', 'gopi', 'mithul', 'nav', 'raja', 'ramamirtham', 'sam', 'sriram', 'sriram', 'tapasya']\n",
      "['tapasya', 'sriram', 'sriram', 'sam', 'ramamirtham', 'raja', 'nav', 'mithul', 'gopi', 'aparna']\n"
     ]
    }
   ],
   "source": [
    "mentors.sort()\n",
    "print(mentors)\n",
    "mentors.reverse()\n",
    "print(mentors)"
   ]
  },
  {
   "cell_type": "code",
   "execution_count": 46,
   "metadata": {},
   "outputs": [],
   "source": [
    "mentors1 = ['sriram','ramamirtham','aparna','mithul','tapasya','sriram']\n",
    "#mentors.append('ramamirthaaaaam')\n",
    "mentors1.extend([2,3,5])\n",
    "#mentors.extend('[sriram]')\n",
    "#mentors.remove('sriram')\n",
    "# mentors1.sort()\n",
    "# mentors1"
   ]
  },
  {
   "cell_type": "code",
   "execution_count": 47,
   "metadata": {
    "scrolled": true
   },
   "outputs": [
    {
     "data": {
      "text/plain": [
       "10"
      ]
     },
     "execution_count": 47,
     "metadata": {},
     "output_type": "execute_result"
    }
   ],
   "source": [
    "list = [1,2,3,4]\n",
    "sum(list)"
   ]
  },
  {
   "cell_type": "code",
   "execution_count": 72,
   "metadata": {},
   "outputs": [
    {
     "data": {
      "text/plain": [
       "['sriram', 'ramamirtham', 'aparna', 'mithul', 'tapasya', 'sriram']"
      ]
     },
     "execution_count": 72,
     "metadata": {},
     "output_type": "execute_result"
    }
   ],
   "source": [
    "#slicing :-\n",
    "mentors1 = ['sriram','ramamirtham','aparna','mithul','tapasya','sriram']\n",
    "#mentors1[0]  # to pick up based on the index number\n",
    "#list[start index:end index]  starting index is inclusive and end index is exclusive\n",
    "#mentors1[2:6]\n",
    "#mentors1[0:]  # to fetch the list from the 0 position to the end index which we dont know\n",
    "#mentors1[0:-1] # to fetch the list from the 0 position to the one before the last index\n",
    "#mentors1[:-1]\n",
    "#list[start index:end index:steps]\n",
    "#mentors1[1:6:2]\n",
    "mentors1[:]\n",
    "\n",
    "\n",
    "#syntax\n",
    "\n"
   ]
  }
 ],
 "metadata": {
  "kernelspec": {
   "display_name": "Python 3",
   "language": "python",
   "name": "python3"
  },
  "language_info": {
   "codemirror_mode": {
    "name": "ipython",
    "version": 3
   },
   "file_extension": ".py",
   "mimetype": "text/x-python",
   "name": "python",
   "nbconvert_exporter": "python",
   "pygments_lexer": "ipython3",
   "version": "3.8.3"
  }
 },
 "nbformat": 4,
 "nbformat_minor": 4
}
