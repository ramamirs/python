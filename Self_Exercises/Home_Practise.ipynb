{
 "cells": [
  {
   "cell_type": "code",
   "execution_count": 1,
   "metadata": {},
   "outputs": [
    {
     "name": "stdout",
     "output_type": "stream",
     "text": [
      "67\n",
      "55\n",
      "50\n"
     ]
    }
   ],
   "source": [
    "# # Write a program to fetch the item only within range between 50 to 70\n",
    "\n",
    "lst = [34,67,55,33,12,98,50]\n",
    "for i in lst:\n",
    "    if i >=50 and i <70:\n",
    "        print(i)"
   ]
  },
  {
   "cell_type": "code",
   "execution_count": 2,
   "metadata": {},
   "outputs": [
    {
     "name": "stdout",
     "output_type": "stream",
     "text": [
      "abc\n",
      "Babu\n"
     ]
    }
   ],
   "source": [
    "# Write a program to print only String data type value from the given List\n",
    "lst = ['abc', 100, 10.10, True, 'Babu']\n",
    "for i in lst:\n",
    "    if 'str' in str(type(i)):\n",
    "        print(i)\n"
   ]
  },
  {
   "cell_type": "code",
   "execution_count": 3,
   "metadata": {},
   "outputs": [
    {
     "name": "stdout",
     "output_type": "stream",
     "text": [
      "['none', 100, 10.1, True, 'none']\n"
     ]
    }
   ],
   "source": [
    "# # Write a program to replace only String values as none.\n",
    "#input =['abc', 100, 10.10, True, 'Babu']\n",
    "#expected output =  -------> [None, 100, 10.10, True, None]\n",
    "\n",
    "lst_add = []\n",
    "lst = ['abc', 100, 10.10, True, 'Babu']\n",
    "for i in lst:\n",
    "    if 'str' not in str(type(i)):\n",
    "        lst_add.append(i)\n",
    "    else:\n",
    "        lst_add.append('none')\n",
    "print(lst_add)"
   ]
  },
  {
   "cell_type": "code",
   "execution_count": 4,
   "metadata": {},
   "outputs": [
    {
     "name": "stdout",
     "output_type": "stream",
     "text": [
      "enter the numbers in comma seperated values2,3,6,8,10,12\n",
      "['2', '3', '6', '8', '10', '12']\n",
      "('2', '3', '6', '8', '10', '12')\n",
      "<class 'list'>\n",
      "<class 'tuple'>\n"
     ]
    }
   ],
   "source": [
    "#1. Write a program which accepts a sequence of comma-separated numbers from console and generate a list and a tuple which contains every number.\n",
    "#output: ['34', '67', '55', '33', '12', '98']\n",
    "#('34', '67', '55', '33', '12', '98')\n",
    "\n",
    "\n",
    "user = input(\"enter the numbers in comma seperated values\")\n",
    "list1 = user.split(',')\n",
    "tuple2 = tuple(list1)\n",
    "print(list1)\n",
    "print(tuple2)\n",
    "print(type(list1))\n",
    "print(type(tuple2))"
   ]
  },
  {
   "cell_type": "code",
   "execution_count": 5,
   "metadata": {},
   "outputs": [
    {
     "name": "stdout",
     "output_type": "stream",
     "text": [
      "5\n",
      "(1, 2, 3, 4, 5)\n",
      "(6, 7, 8, 9, 10, 11)\n"
     ]
    }
   ],
   "source": [
    "#With a given tuple (1,2,3,4,5,6,7,8,9,10), write a program to print the first half values in one line    and the last half values in one line.\n",
    "#\tinput  : (1,2,3,4,5,6,7,8,9,10, 11)\n",
    "#\toutput : (1,2,3,4,5)\n",
    "#\t\t (6,7,8,9,10)\n",
    "inp =(1,2,3,4,5,6,7,8,9,10,11)\n",
    "length = len(inp)\n",
    "mid = length//2\n",
    "print (mid)\n",
    "fh = inp[:mid]\n",
    "sh = inp[mid:]\n",
    "print(fh)\n",
    "print(sh)"
   ]
  },
  {
   "cell_type": "code",
   "execution_count": 6,
   "metadata": {},
   "outputs": [
    {
     "name": "stdout",
     "output_type": "stream",
     "text": [
      "(2, 4, 6, 8, 10)\n",
      "<class 'tuple'>\n"
     ]
    }
   ],
   "source": [
    "#3. Write a program to generate and print another tuple whose values are even numbers in the given tuple\n",
    "#\tinput  : (1,2,3,4,5,6,7,8,9,10)\n",
    "#\toutput : (2, 4, 6, 8, 10)\n",
    "list =[]\n",
    "input = (1,2,3,4,5,6,7,8,9,10)\n",
    "for i in input:\n",
    "    if i %2 == 0:\n",
    "        list.append(i)\n",
    "list = tuple(list)\n",
    "print(list)\n",
    "print(type(list))"
   ]
  },
  {
   "cell_type": "code",
   "execution_count": 7,
   "metadata": {},
   "outputs": [
    {
     "name": "stdout",
     "output_type": "stream",
     "text": [
      "[1, 4, 9, 16, 25, 36, 49]\n"
     ]
    }
   ],
   "source": [
    "#DAILY QUESTION -1\n",
    "#Turn this every item of a list into its square\n",
    "#input = [1,2,3,4,5,6,7]\n",
    "#o/p = [1,4,9,16,25,36,49]\n",
    "output = []\n",
    "input = [1,2,3,4,5,6,7]\n",
    "for i in input:\n",
    "    output.append(i*i)\n",
    "print(output)"
   ]
  },
  {
   "cell_type": "code",
   "execution_count": 8,
   "metadata": {},
   "outputs": [
    {
     "name": "stdout",
     "output_type": "stream",
     "text": [
      "['hello DIvya', 'hello Sam', 'Hi DIvya', 'Hi Sam']\n"
     ]
    }
   ],
   "source": [
    "#DAILY QUESTION -2\n",
    "#concatenate two list in a following order\n",
    "list1 = [\"hello\",\"Hi\"]\n",
    "list2 = [\"DIvya\",\"Sam\"]\n",
    "# Output = ['hello divya','Hello sam']\n",
    "output = []\n",
    "for i in list1:\n",
    "    for j in list2:\n",
    "        out = (i + ' ' + j)\n",
    "        output.append(out)\n",
    "print(output)"
   ]
  },
  {
   "cell_type": "code",
   "execution_count": 13,
   "metadata": {
    "scrolled": true
   },
   "outputs": [
    {
     "ename": "TypeError",
     "evalue": "'list' object is not callable",
     "output_type": "error",
     "traceback": [
      "\u001b[1;31m---------------------------------------------------------------------------\u001b[0m",
      "\u001b[1;31mTypeError\u001b[0m                                 Traceback (most recent call last)",
      "\u001b[1;32m<ipython-input-13-5f151c8668bc>\u001b[0m in \u001b[0;36m<module>\u001b[1;34m\u001b[0m\n\u001b[0;32m      2\u001b[0m \u001b[1;31m#\u001b[0m\u001b[1;33m\u001b[0m\u001b[1;33m\u001b[0m\u001b[1;33m\u001b[0m\u001b[0m\n\u001b[0;32m      3\u001b[0m \u001b[0mliststing\u001b[0m \u001b[1;33m=\u001b[0m \u001b[1;33m[\u001b[0m\u001b[1;33m]\u001b[0m\u001b[1;33m\u001b[0m\u001b[1;33m\u001b[0m\u001b[0m\n\u001b[1;32m----> 4\u001b[1;33m \u001b[0mstring\u001b[0m \u001b[1;33m=\u001b[0m \u001b[0minput\u001b[0m\u001b[1;33m(\u001b[0m\u001b[1;34m\"enter the string\"\u001b[0m\u001b[1;33m)\u001b[0m\u001b[1;33m\u001b[0m\u001b[1;33m\u001b[0m\u001b[0m\n\u001b[0m\u001b[0;32m      5\u001b[0m \u001b[1;32mfor\u001b[0m \u001b[0mi\u001b[0m \u001b[1;32min\u001b[0m \u001b[0mstring\u001b[0m\u001b[1;33m:\u001b[0m\u001b[1;33m\u001b[0m\u001b[1;33m\u001b[0m\u001b[0m\n\u001b[0;32m      6\u001b[0m     \u001b[0mliststing\u001b[0m\u001b[1;33m.\u001b[0m\u001b[0mappend\u001b[0m\u001b[1;33m(\u001b[0m\u001b[0mi\u001b[0m\u001b[1;33m)\u001b[0m\u001b[1;33m\u001b[0m\u001b[1;33m\u001b[0m\u001b[0m\n",
      "\u001b[1;31mTypeError\u001b[0m: 'list' object is not callable"
     ]
    }
   ],
   "source": [
    "#DAILY QUESTION -4  WAP to accept words from user and reverse using loop\n",
    "#\n",
    "liststing = []\n",
    "string = input(\"enter the string\")\n",
    "for i in string:\n",
    "    liststing.append(i)\n",
    "liststing.reverse()\n",
    "#print(liststing)\n",
    "print(\"\".join(liststing))\n",
    "\n",
    "# This is fine in Pycharm. No errors seen"
   ]
  },
  {
   "cell_type": "code",
   "execution_count": 15,
   "metadata": {},
   "outputs": [
    {
     "name": "stdout",
     "output_type": "stream",
     "text": [
      "['welcome', 'to', 'python', 'world']\n"
     ]
    }
   ],
   "source": [
    "#DAILY QUESTION -5  concatenate two list index wise\n",
    "\n",
    "list3 = []\n",
    "list1 = ['wel' ,'t', 'py' ,'wor']\n",
    "list2 = ['come' ,'o' ,'thon', 'ld']\n",
    "for i in range(len(list1)):\n",
    "    list3.append(list1[i] + list2[i])\n",
    "print(list3)"
   ]
  },
  {
   "cell_type": "code",
   "execution_count": 17,
   "metadata": {},
   "outputs": [
    {
     "name": "stdout",
     "output_type": "stream",
     "text": [
      "['LestLeaf']\n"
     ]
    }
   ],
   "source": [
    "#for String:\n",
    "#Write a Python program to get a single string from two given strings, separated by a space and swap the first two characters of each string.\n",
    "# \tinput  : \"Test\", \"Leaf\"\n",
    "# \toutput : \"Lest Teaf\"\n",
    "input = \"Test\", \"Leaf\"\n",
    "res = \"\".join(input)\n",
    "#print(res)\n",
    "final = res.replace(\"T\",\"L\"). replace(\"lea\",\"tea\").split(',')\n",
    "print(final)\n"
   ]
  },
  {
   "cell_type": "code",
   "execution_count": 21,
   "metadata": {},
   "outputs": [
    {
     "ename": "TypeError",
     "evalue": "'tuple' object is not callable",
     "output_type": "error",
     "traceback": [
      "\u001b[1;31m---------------------------------------------------------------------------\u001b[0m",
      "\u001b[1;31mTypeError\u001b[0m                                 Traceback (most recent call last)",
      "\u001b[1;32m<ipython-input-21-d1df1e35459a>\u001b[0m in \u001b[0;36m<module>\u001b[1;34m\u001b[0m\n\u001b[0;32m     19\u001b[0m \u001b[1;31m#       output : 'stringly'\u001b[0m\u001b[1;33m\u001b[0m\u001b[1;33m\u001b[0m\u001b[1;33m\u001b[0m\u001b[0m\n\u001b[0;32m     20\u001b[0m \u001b[1;33m\u001b[0m\u001b[0m\n\u001b[1;32m---> 21\u001b[1;33m \u001b[0muser\u001b[0m \u001b[1;33m=\u001b[0m \u001b[0minput\u001b[0m\u001b[1;33m(\u001b[0m\u001b[1;34m\"enter the string\"\u001b[0m\u001b[1;33m)\u001b[0m\u001b[1;33m\u001b[0m\u001b[1;33m\u001b[0m\u001b[0m\n\u001b[0m\u001b[0;32m     22\u001b[0m \u001b[1;32mif\u001b[0m \u001b[0mlen\u001b[0m\u001b[1;33m(\u001b[0m\u001b[0muser\u001b[0m\u001b[1;33m)\u001b[0m \u001b[1;33m<\u001b[0m\u001b[1;36m3\u001b[0m\u001b[1;33m:\u001b[0m\u001b[1;33m\u001b[0m\u001b[1;33m\u001b[0m\u001b[0m\n\u001b[0;32m     23\u001b[0m     \u001b[0mprint\u001b[0m\u001b[1;33m(\u001b[0m\u001b[0muser\u001b[0m\u001b[1;33m)\u001b[0m\u001b[1;33m\u001b[0m\u001b[1;33m\u001b[0m\u001b[0m\n",
      "\u001b[1;31mTypeError\u001b[0m: 'tuple' object is not callable"
     ]
    }
   ],
   "source": [
    "# 2. Write a Python program to add 'ing' at the end of a given string (length should be at least 3). If the given string already ends with 'ing'\n",
    "# then add 'ly' instead. If the string length of the given string is less than 3,\n",
    "# leave it unchanged. Go to the editor\n",
    "#\n",
    "# \tinput  : 'abc'\n",
    "# \toutput : 'abcing'\n",
    "#\n",
    "# \tinput  : 'string'\n",
    "# \toutput : 'stringly'\n",
    "\n",
    "# 2. Write a Python program to add 'ing' at the end of a given string (length should be at least 3). If the given string already ends with 'ing'\n",
    "# then add 'ly' instead. If the string length of the given string is less than 3,\n",
    "# leave it unchanged. Go to the editor\n",
    "#\n",
    "# \tinput  : 'abc'\n",
    "# \toutput : 'abcing'\n",
    "#\n",
    "# \tinput  : 'string'\n",
    "# \toutput : 'stringly'\n",
    "\n",
    "user = input(\"enter the string\")\n",
    "if len(user) <3:\n",
    "    print(user)\n",
    "elif 'ing' not in user:\n",
    "    print(user+'ing')\n",
    "elif 'ing'in user:\n",
    "    print(user+'ly')\n",
    "else:\n",
    "    print(user)\n",
    "    \n",
    "    # Pycharm no errors"
   ]
  },
  {
   "cell_type": "code",
   "execution_count": 22,
   "metadata": {},
   "outputs": [
    {
     "ename": "TypeError",
     "evalue": "'tuple' object is not callable",
     "output_type": "error",
     "traceback": [
      "\u001b[1;31m---------------------------------------------------------------------------\u001b[0m",
      "\u001b[1;31mTypeError\u001b[0m                                 Traceback (most recent call last)",
      "\u001b[1;32m<ipython-input-22-f545bedca43c>\u001b[0m in \u001b[0;36m<module>\u001b[1;34m\u001b[0m\n\u001b[0;32m      2\u001b[0m \u001b[0mempty\u001b[0m \u001b[1;33m=\u001b[0m \u001b[1;33m[\u001b[0m\u001b[1;33m]\u001b[0m\u001b[1;33m\u001b[0m\u001b[1;33m\u001b[0m\u001b[0m\n\u001b[0;32m      3\u001b[0m \u001b[0mtuple1\u001b[0m \u001b[1;33m=\u001b[0m \u001b[1;33m(\u001b[0m\u001b[1;33m(\u001b[0m\u001b[1;34m'a'\u001b[0m\u001b[1;33m,\u001b[0m\u001b[1;36m32\u001b[0m\u001b[1;33m)\u001b[0m\u001b[1;33m,\u001b[0m\u001b[1;33m(\u001b[0m\u001b[1;34m'b'\u001b[0m\u001b[1;33m,\u001b[0m\u001b[1;36m54\u001b[0m\u001b[1;33m)\u001b[0m\u001b[1;33m,\u001b[0m\u001b[1;33m(\u001b[0m\u001b[1;34m'c'\u001b[0m\u001b[1;33m,\u001b[0m\u001b[1;36m19\u001b[0m\u001b[1;33m)\u001b[0m\u001b[1;33m,\u001b[0m\u001b[1;33m(\u001b[0m\u001b[1;34m'd'\u001b[0m\u001b[1;33m,\u001b[0m\u001b[1;36m32\u001b[0m\u001b[1;33m)\u001b[0m\u001b[1;33m)\u001b[0m\u001b[1;33m\u001b[0m\u001b[1;33m\u001b[0m\u001b[0m\n\u001b[1;32m----> 4\u001b[1;33m \u001b[0mlist\u001b[0m \u001b[1;33m=\u001b[0m \u001b[0mlist\u001b[0m\u001b[1;33m(\u001b[0m\u001b[0mtuple1\u001b[0m\u001b[1;33m)\u001b[0m\u001b[1;33m\u001b[0m\u001b[1;33m\u001b[0m\u001b[0m\n\u001b[0m\u001b[0;32m      5\u001b[0m \u001b[1;32mfor\u001b[0m \u001b[0mi\u001b[0m \u001b[1;32min\u001b[0m \u001b[0mlist\u001b[0m\u001b[1;33m:\u001b[0m\u001b[1;33m\u001b[0m\u001b[1;33m\u001b[0m\u001b[0m\n\u001b[0;32m      6\u001b[0m     \u001b[0mempty\u001b[0m\u001b[1;33m.\u001b[0m\u001b[0msort\u001b[0m\u001b[1;33m(\u001b[0m\u001b[1;33m)\u001b[0m\u001b[1;33m\u001b[0m\u001b[1;33m\u001b[0m\u001b[0m\n",
      "\u001b[1;31mTypeError\u001b[0m: 'tuple' object is not callable"
     ]
    }
   ],
   "source": [
    "num = []\n",
    "empty = []\n",
    "tuple1 = (('a',32),('b',54),('c',19),('d',32))\n",
    "list = list(tuple1)\n",
    "for i in list:\n",
    "    empty.sort()\n",
    "    empty.append(i[1])\n",
    "for j in list:\n",
    "    num.sort()\n",
    "    num.append(j[0])\n",
    "#final_String = num + empty\n",
    "print(empty)\n",
    "print(num)\n",
    "# print(final_String)\n",
    "#final_String.\n"
   ]
  },
  {
   "cell_type": "code",
   "execution_count": 23,
   "metadata": {},
   "outputs": [
    {
     "name": "stdout",
     "output_type": "stream",
     "text": [
      "original set is  {1, 2, 3, 4, 5, 6, 8}\n",
      "even set is  {8, 2, 4, 6}\n",
      "odd set is  {1, 3, 5}\n"
     ]
    }
   ],
   "source": [
    "#Daily Question-7\n",
    "#Create a program to add the even number as a seperate set from existing set\n",
    "\n",
    "my_set = {1, 2, 3, 4, 5, 6, 8}\n",
    "newset= set()\n",
    "newset1= set()\n",
    "for i in my_set:\n",
    "    if i % 2 ==0:\n",
    "        newset.add(i)\n",
    "    else:\n",
    "        newset1.add(i)\n",
    "print(\"original set is \" , my_set)\n",
    "print(\"even set is \" ,newset)\n",
    "print(\"odd set is \" ,newset1)"
   ]
  },
  {
   "cell_type": "code",
   "execution_count": 24,
   "metadata": {},
   "outputs": [
    {
     "name": "stdout",
     "output_type": "stream",
     "text": [
      "{'june': 110, 'August': 220, 'sept': 500, 'sep': 110, 'oct': 220, 'march': 550}\n"
     ]
    }
   ],
   "source": [
    "#merge two dictionaries into one\n",
    "dict1 = {'june':110,'August':220,'sept' :500}\n",
    "dict2 = {'sep':110,'oct':220,'march':550}\n",
    "result = dict1.update(dict2)\n",
    "print(dict1)"
   ]
  },
  {
   "cell_type": "code",
   "execution_count": 25,
   "metadata": {},
   "outputs": [
    {
     "name": "stdout",
     "output_type": "stream",
     "text": [
      "worl2dworl2dworl2dworl2dworl2dworl2d\n"
     ]
    }
   ],
   "source": [
    "#Daily Question-10  : Return the longest word from the list\n",
    "long_elem = -1\n",
    "inp = [\"ss\",\"to\",\"pythonpython\",\"worl2dworl2dworl2dworl2dworl2dworl2d\"]\n",
    "for i in inp:\n",
    "    #print (len(i))\n",
    "    if len(i) > long_elem:\n",
    "        long_elem = len(i)\n",
    "        result = i\n",
    "print(result)"
   ]
  },
  {
   "cell_type": "code",
   "execution_count": 27,
   "metadata": {},
   "outputs": [
    {
     "name": "stdout",
     "output_type": "stream",
     "text": [
      "[('computer', 76), ('mouse', 98), ('processor', 65), ('zpu', 82)]\n"
     ]
    }
   ],
   "source": [
    "#Daily Question 9\n",
    "\n",
    "tuple1 = [('computer',76),('zpu',82),('mouse',98),('processor',65)]\n",
    "tuple1.sort(key=lambda x:x[0])\n",
    "#tuple1.sort(key=lambda x:x[0])\n",
    "print(tuple1)\n"
   ]
  }
 ],
 "metadata": {
  "kernelspec": {
   "display_name": "Python 3",
   "language": "python",
   "name": "python3"
  },
  "language_info": {
   "codemirror_mode": {
    "name": "ipython",
    "version": 3
   },
   "file_extension": ".py",
   "mimetype": "text/x-python",
   "name": "python",
   "nbconvert_exporter": "python",
   "pygments_lexer": "ipython3",
   "version": "3.8.3"
  }
 },
 "nbformat": 4,
 "nbformat_minor": 4
}
