{
 "cells": [
  {
   "cell_type": "code",
   "execution_count": 19,
   "metadata": {},
   "outputs": [
    {
     "name": "stdout",
     "output_type": "stream",
     "text": [
      "<class 'tuple'>\n",
      "('python', 'Appium', 'datascience', 'selenium', 'ws')\n",
      "2121828219936\n",
      "************************************************** Program1\n",
      "2121758605376\n",
      "()\n",
      "**************************************************\n",
      "<class 'tuple'>\n",
      "**************************************************\n",
      "<class 'str'>\n",
      "**************************************************\n",
      "<class 'tuple'>\n",
      "************************************************** Program\n"
     ]
    }
   ],
   "source": [
    "#Lear Tuple\n",
    "\n",
    "#1) similar to list and immutable and created using ()\n",
    "\n",
    "#Create Tuple\n",
    "programs = ('python','Appium','datascience','selenium','ws')\n",
    "print (type(programs))\n",
    "print(programs)\n",
    "print (id(programs))\n",
    "print (\"*\" *50,\"Program1\")\n",
    "\n",
    "programs = ()\n",
    "print (id(programs))\n",
    "print(programs)\n",
    "\n",
    "print (\"*\" *50)\n",
    "\n",
    "programs = ('python',)     #even if is a single item, \"comma\" should be imcluided else it wil be considered as astring\n",
    "print (type(programs))\n",
    "print (\"*\" *50)\n",
    "\n",
    "programs = ('python')\n",
    "print (type(programs))  # this is not a tuple and its just a string\n",
    "print (\"*\" *50)\n",
    "\n",
    "programs = 'python','Appium','datascience','selenium','ws'  \n",
    "# no brackets are in the list is considered as tuple\n",
    "print (type(programs))\n",
    "print (\"*\" *50,\"Program\")\n"
   ]
  },
  {
   "cell_type": "code",
   "execution_count": 28,
   "metadata": {},
   "outputs": [
    {
     "name": "stdout",
     "output_type": "stream",
     "text": [
      "('a', 'b', 'c', '1', '2', '3')\n"
     ]
    }
   ],
   "source": [
    "#Update tuple\n",
    "# tp1 = ('a','b','c')\n",
    "# tp2 = ('1','2','3')\n",
    "# tp3 = tp1 + tp2    # to update, we can use the + operator\n",
    "# print(tp3)"
   ]
  },
  {
   "cell_type": "code",
   "execution_count": 37,
   "metadata": {},
   "outputs": [],
   "source": [
    "#delete tuple\n",
    "#del tp3\n",
    "#print(tp3)   # because its deleted it says Tp3 is not defined.\n",
    "  \n"
   ]
  },
  {
   "cell_type": "code",
   "execution_count": 49,
   "metadata": {},
   "outputs": [
    {
     "ename": "TypeError",
     "evalue": "list indices must be integers or slices, not tuple",
     "output_type": "error",
     "traceback": [
      "\u001b[1;31m---------------------------------------------------------------------------\u001b[0m",
      "\u001b[1;31mTypeError\u001b[0m                                 Traceback (most recent call last)",
      "\u001b[1;32m<ipython-input-49-c6c0634e355c>\u001b[0m in \u001b[0;36m<module>\u001b[1;34m\u001b[0m\n\u001b[0;32m      4\u001b[0m \u001b[1;33m\u001b[0m\u001b[0m\n\u001b[0;32m      5\u001b[0m \u001b[0mtp5\u001b[0m \u001b[1;33m=\u001b[0m \u001b[1;33m(\u001b[0m\u001b[1;36m1\u001b[0m\u001b[1;33m,\u001b[0m\u001b[1;36m2\u001b[0m\u001b[1;33m,\u001b[0m\u001b[1;36m3\u001b[0m\u001b[1;33m,\u001b[0m\u001b[1;36m4\u001b[0m\u001b[1;33m)\u001b[0m\u001b[1;33m\u001b[0m\u001b[1;33m\u001b[0m\u001b[0m\n\u001b[1;32m----> 6\u001b[1;33m \u001b[0mlist\u001b[0m\u001b[1;33m[\u001b[0m\u001b[0mtp5\u001b[0m\u001b[1;33m]\u001b[0m\u001b[1;33m\u001b[0m\u001b[1;33m\u001b[0m\u001b[0m\n\u001b[0m\u001b[0;32m      7\u001b[0m \u001b[1;33m\u001b[0m\u001b[0m\n\u001b[0;32m      8\u001b[0m \u001b[1;31m# A = (1,2,3,4)\u001b[0m\u001b[1;33m\u001b[0m\u001b[1;33m\u001b[0m\u001b[1;33m\u001b[0m\u001b[0m\n",
      "\u001b[1;31mTypeError\u001b[0m: list indices must be integers or slices, not tuple"
     ]
    }
   ],
   "source": [
    "# convert from tuple to list\n",
    "# list = [1,2,3,4]\n",
    "# tuple(list)\n",
    "\n",
    "tp5 = (1,2,3,4)\n",
    "list(tp5)\n",
    "************TO CHECK*******\n",
    "\n",
    "# A = (1,2,3,4)\n",
    "# print (type(A))\n",
    "# print(A)"
   ]
  },
  {
   "cell_type": "code",
   "execution_count": null,
   "metadata": {},
   "outputs": [],
   "source": []
  }
 ],
 "metadata": {
  "kernelspec": {
   "display_name": "Python 3",
   "language": "python",
   "name": "python3"
  },
  "language_info": {
   "codemirror_mode": {
    "name": "ipython",
    "version": 3
   },
   "file_extension": ".py",
   "mimetype": "text/x-python",
   "name": "python",
   "nbconvert_exporter": "python",
   "pygments_lexer": "ipython3",
   "version": "3.8.3"
  }
 },
 "nbformat": 4,
 "nbformat_minor": 4
}
